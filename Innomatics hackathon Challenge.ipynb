{
 "cells": [
  {
   "cell_type": "code",
   "execution_count": 2,
   "metadata": {},
   "outputs": [],
   "source": [
    "## Importing necessary Libraries and packages\n",
    "import pandas as pd\n",
    "import numpy as np\n",
    "import matplotlib.pyplot as plt\n",
    "import seaborn as sns\n",
    "\n",
    "## Classification models\n",
    "from sklearn.linear_model import LogisticRegression\n",
    "from sklearn.tree import DecisionTreeClassifier\n",
    "from sklearn.neighbors import KNeighborsClassifier\n",
    "from sklearn.svm import SVC\n",
    "\n",
    "#Grid Search\n",
    "from sklearn.model_selection import RepeatedStratifiedKFold\n",
    "from sklearn.model_selection import GridSearchCV\n",
    "\n",
    "#pipeline\n",
    "from sklearn.pipeline import Pipeline\n",
    "from sklearn.model_selection import train_test_split\n",
    "from sklearn.preprocessing import StandardScaler,MinMaxScaler\n",
    "\n",
    "#metrics \n",
    "from sklearn.metrics import accuracy_score,confusion_matrix,classification_report\n",
    "\n",
    "import warnings\n",
    "warnings.filterwarnings('ignore')"
   ]
  },
  {
   "cell_type": "code",
   "execution_count": 3,
   "metadata": {},
   "outputs": [
    {
     "data": {
      "text/html": [
       "<div>\n",
       "<style scoped>\n",
       "    .dataframe tbody tr th:only-of-type {\n",
       "        vertical-align: middle;\n",
       "    }\n",
       "\n",
       "    .dataframe tbody tr th {\n",
       "        vertical-align: top;\n",
       "    }\n",
       "\n",
       "    .dataframe thead th {\n",
       "        text-align: right;\n",
       "    }\n",
       "</style>\n",
       "<table border=\"1\" class=\"dataframe\">\n",
       "  <thead>\n",
       "    <tr style=\"text-align: right;\">\n",
       "      <th></th>\n",
       "      <th>x1</th>\n",
       "      <th>x2</th>\n",
       "      <th>y</th>\n",
       "    </tr>\n",
       "  </thead>\n",
       "  <tbody>\n",
       "    <tr>\n",
       "      <th>0</th>\n",
       "      <td>-119.366669</td>\n",
       "      <td>115.000000</td>\n",
       "      <td>1</td>\n",
       "    </tr>\n",
       "    <tr>\n",
       "      <th>1</th>\n",
       "      <td>-101.108044</td>\n",
       "      <td>97.777159</td>\n",
       "      <td>1</td>\n",
       "    </tr>\n",
       "    <tr>\n",
       "      <th>2</th>\n",
       "      <td>-130.278658</td>\n",
       "      <td>106.767654</td>\n",
       "      <td>1</td>\n",
       "    </tr>\n",
       "    <tr>\n",
       "      <th>3</th>\n",
       "      <td>-114.703415</td>\n",
       "      <td>101.195477</td>\n",
       "      <td>1</td>\n",
       "    </tr>\n",
       "    <tr>\n",
       "      <th>4</th>\n",
       "      <td>-119.366669</td>\n",
       "      <td>115.000000</td>\n",
       "      <td>1</td>\n",
       "    </tr>\n",
       "  </tbody>\n",
       "</table>\n",
       "</div>"
      ],
      "text/plain": [
       "           x1          x2  y\n",
       "0 -119.366669  115.000000  1\n",
       "1 -101.108044   97.777159  1\n",
       "2 -130.278658  106.767654  1\n",
       "3 -114.703415  101.195477  1\n",
       "4 -119.366669  115.000000  1"
      ]
     },
     "execution_count": 3,
     "metadata": {},
     "output_type": "execute_result"
    }
   ],
   "source": [
    "## Importing csv file\n",
    "df=pd.read_csv('C:\\\\Users\\\\Shubham Shinde\\\\Downloads\\\\data.csv')\n",
    "df.head()"
   ]
  },
  {
   "cell_type": "markdown",
   "metadata": {},
   "source": [
    "## Checking Data Information"
   ]
  },
  {
   "cell_type": "code",
   "execution_count": 4,
   "metadata": {},
   "outputs": [
    {
     "data": {
      "text/plain": [
       "(2227, 3)"
      ]
     },
     "execution_count": 4,
     "metadata": {},
     "output_type": "execute_result"
    }
   ],
   "source": [
    "df.shape"
   ]
  },
  {
   "cell_type": "markdown",
   "metadata": {},
   "source": [
    "Data Contains 2227 rows and 3 columns."
   ]
  },
  {
   "cell_type": "code",
   "execution_count": 5,
   "metadata": {},
   "outputs": [
    {
     "name": "stdout",
     "output_type": "stream",
     "text": [
      "<class 'pandas.core.frame.DataFrame'>\n",
      "RangeIndex: 2227 entries, 0 to 2226\n",
      "Data columns (total 3 columns):\n",
      " #   Column  Non-Null Count  Dtype  \n",
      "---  ------  --------------  -----  \n",
      " 0   x1      2222 non-null   float64\n",
      " 1   x2      2224 non-null   float64\n",
      " 2   y       2227 non-null   int64  \n",
      "dtypes: float64(2), int64(1)\n",
      "memory usage: 52.3 KB\n"
     ]
    }
   ],
   "source": [
    "df.info()"
   ]
  },
  {
   "cell_type": "code",
   "execution_count": 6,
   "metadata": {},
   "outputs": [
    {
     "data": {
      "text/plain": [
       "x1    float64\n",
       "x2    float64\n",
       "y       int64\n",
       "dtype: object"
      ]
     },
     "execution_count": 6,
     "metadata": {},
     "output_type": "execute_result"
    }
   ],
   "source": [
    "df.dtypes"
   ]
  },
  {
   "cell_type": "markdown",
   "metadata": {},
   "source": [
    "All Attribute contains numerical data."
   ]
  },
  {
   "cell_type": "code",
   "execution_count": 7,
   "metadata": {},
   "outputs": [
    {
     "data": {
      "text/html": [
       "<div>\n",
       "<style scoped>\n",
       "    .dataframe tbody tr th:only-of-type {\n",
       "        vertical-align: middle;\n",
       "    }\n",
       "\n",
       "    .dataframe tbody tr th {\n",
       "        vertical-align: top;\n",
       "    }\n",
       "\n",
       "    .dataframe thead th {\n",
       "        text-align: right;\n",
       "    }\n",
       "</style>\n",
       "<table border=\"1\" class=\"dataframe\">\n",
       "  <thead>\n",
       "    <tr style=\"text-align: right;\">\n",
       "      <th></th>\n",
       "      <th>x1</th>\n",
       "      <th>x2</th>\n",
       "      <th>y</th>\n",
       "    </tr>\n",
       "  </thead>\n",
       "  <tbody>\n",
       "    <tr>\n",
       "      <th>count</th>\n",
       "      <td>2222.000000</td>\n",
       "      <td>2.224000e+03</td>\n",
       "      <td>2227.000000</td>\n",
       "    </tr>\n",
       "    <tr>\n",
       "      <th>mean</th>\n",
       "      <td>-4.818766</td>\n",
       "      <td>8.947626e+04</td>\n",
       "      <td>0.442299</td>\n",
       "    </tr>\n",
       "    <tr>\n",
       "      <th>std</th>\n",
       "      <td>74.939909</td>\n",
       "      <td>2.983323e+06</td>\n",
       "      <td>0.496771</td>\n",
       "    </tr>\n",
       "    <tr>\n",
       "      <th>min</th>\n",
       "      <td>-134.369160</td>\n",
       "      <td>-1.348761e+02</td>\n",
       "      <td>0.000000</td>\n",
       "    </tr>\n",
       "    <tr>\n",
       "      <th>25%</th>\n",
       "      <td>-71.757030</td>\n",
       "      <td>-8.012983e+01</td>\n",
       "      <td>0.000000</td>\n",
       "    </tr>\n",
       "    <tr>\n",
       "      <th>50%</th>\n",
       "      <td>-9.836555</td>\n",
       "      <td>-1.046151e+00</td>\n",
       "      <td>0.000000</td>\n",
       "    </tr>\n",
       "    <tr>\n",
       "      <th>75%</th>\n",
       "      <td>59.813962</td>\n",
       "      <td>6.389086e+01</td>\n",
       "      <td>1.000000</td>\n",
       "    </tr>\n",
       "    <tr>\n",
       "      <th>max</th>\n",
       "      <td>134.508687</td>\n",
       "      <td>1.000000e+08</td>\n",
       "      <td>1.000000</td>\n",
       "    </tr>\n",
       "  </tbody>\n",
       "</table>\n",
       "</div>"
      ],
      "text/plain": [
       "                x1            x2            y\n",
       "count  2222.000000  2.224000e+03  2227.000000\n",
       "mean     -4.818766  8.947626e+04     0.442299\n",
       "std      74.939909  2.983323e+06     0.496771\n",
       "min    -134.369160 -1.348761e+02     0.000000\n",
       "25%     -71.757030 -8.012983e+01     0.000000\n",
       "50%      -9.836555 -1.046151e+00     0.000000\n",
       "75%      59.813962  6.389086e+01     1.000000\n",
       "max     134.508687  1.000000e+08     1.000000"
      ]
     },
     "execution_count": 7,
     "metadata": {},
     "output_type": "execute_result"
    }
   ],
   "source": [
    "df.describe()"
   ]
  },
  {
   "cell_type": "code",
   "execution_count": 8,
   "metadata": {},
   "outputs": [
    {
     "data": {
      "text/plain": [
       "array([1, 0], dtype=int64)"
      ]
     },
     "execution_count": 8,
     "metadata": {},
     "output_type": "execute_result"
    }
   ],
   "source": [
    "df['y'].unique()"
   ]
  },
  {
   "cell_type": "markdown",
   "metadata": {},
   "source": [
    "y attribute contain 2 classes 0 and 1"
   ]
  },
  {
   "cell_type": "code",
   "execution_count": 9,
   "metadata": {},
   "outputs": [
    {
     "data": {
      "text/plain": [
       "0    1242\n",
       "1     985\n",
       "Name: y, dtype: int64"
      ]
     },
     "execution_count": 9,
     "metadata": {},
     "output_type": "execute_result"
    }
   ],
   "source": [
    "df['y'].value_counts()"
   ]
  },
  {
   "cell_type": "code",
   "execution_count": 10,
   "metadata": {},
   "outputs": [
    {
     "data": {
      "text/plain": [
       "<AxesSubplot:xlabel='y', ylabel='count'>"
      ]
     },
     "execution_count": 10,
     "metadata": {},
     "output_type": "execute_result"
    },
    {
     "data": {
      "image/png": "[encoded data removed]",
      "text/plain": [
       "<Figure size 432x288 with 1 Axes>"
      ]
     },
     "metadata": {
      "needs_background": "light"
     },
     "output_type": "display_data"
    }
   ],
   "source": [
    "sns.countplot(df['y'])"
   ]
  },
  {
   "cell_type": "markdown",
   "metadata": {},
   "source": [
    "## Exploratory Data Analysis"
   ]
  },
  {
   "cell_type": "code",
   "execution_count": 11,
   "metadata": {},
   "outputs": [
    {
     "data": {
      "text/plain": [
       "<AxesSubplot:xlabel='x1', ylabel='Density'>"
      ]
     },
     "execution_count": 11,
     "metadata": {},
     "output_type": "execute_result"
    },
    {
     "data": {
      "image/png": "[encoded data removed]",
      "text/plain": [
       "<Figure size 432x288 with 1 Axes>"
      ]
     },
     "metadata": {
      "needs_background": "light"
     },
     "output_type": "display_data"
    }
   ],
   "source": [
    "sns.distplot(df['x1'])"
   ]
  },
  {
   "cell_type": "code",
   "execution_count": 12,
   "metadata": {},
   "outputs": [
    {
     "data": {
      "text/plain": [
       "<AxesSubplot:xlabel='x2', ylabel='Density'>"
      ]
     },
     "execution_count": 12,
     "metadata": {},
     "output_type": "execute_result"
    },
    {
     "data": {
      "image/png": "[encoded data removed]",
      "text/plain": [
       "<Figure size 432x288 with 1 Axes>"
      ]
     },
     "metadata": {
      "needs_background": "light"
     },
     "output_type": "display_data"
    }
   ],
   "source": [
    "sns.distplot(df['x2'])"
   ]
  },
  {
   "cell_type": "code",
   "execution_count": 13,
   "metadata": {},
   "outputs": [
    {
     "data": {
      "text/plain": [
       "x1    5\n",
       "x2    3\n",
       "y     0\n",
       "dtype: int64"
      ]
     },
     "execution_count": 13,
     "metadata": {},
     "output_type": "execute_result"
    }
   ],
   "source": [
    "## Checking missing values if any\n",
    "df.isna().sum()"
   ]
  },
  {
   "cell_type": "code",
   "execution_count": 14,
   "metadata": {},
   "outputs": [
    {
     "data": {
      "text/plain": [
       "(-4.818766123605403, -9.836555486, -118.36666869999999)"
      ]
     },
     "execution_count": 14,
     "metadata": {},
     "output_type": "execute_result"
    }
   ],
   "source": [
    "## Finding the mean ,median,mode of x1 column\n",
    "df['x1'].mean(),df['x1'].median(),df['x1'].mode()[0]"
   ]
  },
  {
   "cell_type": "code",
   "execution_count": 15,
   "metadata": {},
   "outputs": [
    {
     "data": {
      "text/plain": [
       "(89476.25894136279, -1.04615092, -113.0)"
      ]
     },
     "execution_count": 15,
     "metadata": {},
     "output_type": "execute_result"
    }
   ],
   "source": [
    "# Finding the mean ,median,mode of x2 column\n",
    "df['x2'].mean(),df['x2'].median(),df['x2'].mode()[0]"
   ]
  },
  {
   "cell_type": "code",
   "execution_count": 16,
   "metadata": {},
   "outputs": [],
   "source": [
    "## Lets Fill the missing values by median to avoid the outliers \n",
    "df['x1']=df['x1'].fillna(df['x1'].median())\n",
    "df['x2']=df['x2'].fillna(df['x2'].median())"
   ]
  },
  {
   "cell_type": "code",
   "execution_count": 17,
   "metadata": {},
   "outputs": [
    {
     "data": {
      "text/plain": [
       "x1    0\n",
       "x2    0\n",
       "y     0\n",
       "dtype: int64"
      ]
     },
     "execution_count": 17,
     "metadata": {},
     "output_type": "execute_result"
    }
   ],
   "source": [
    "df.isna().sum()"
   ]
  },
  {
   "cell_type": "markdown",
   "metadata": {},
   "source": [
    "Contain no missing values now."
   ]
  },
  {
   "cell_type": "code",
   "execution_count": 18,
   "metadata": {},
   "outputs": [
    {
     "data": {
      "text/plain": [
       "16"
      ]
     },
     "execution_count": 18,
     "metadata": {},
     "output_type": "execute_result"
    }
   ],
   "source": [
    "## Checking duplicate values if any\n",
    "df.duplicated().sum()"
   ]
  },
  {
   "cell_type": "markdown",
   "metadata": {},
   "source": [
    "We found 16 duplicate values."
   ]
  },
  {
   "cell_type": "code",
   "execution_count": 19,
   "metadata": {},
   "outputs": [
    {
     "data": {
      "text/html": [
       "<div>\n",
       "<style scoped>\n",
       "    .dataframe tbody tr th:only-of-type {\n",
       "        vertical-align: middle;\n",
       "    }\n",
       "\n",
       "    .dataframe tbody tr th {\n",
       "        vertical-align: top;\n",
       "    }\n",
       "\n",
       "    .dataframe thead th {\n",
       "        text-align: right;\n",
       "    }\n",
       "</style>\n",
       "<table border=\"1\" class=\"dataframe\">\n",
       "  <thead>\n",
       "    <tr style=\"text-align: right;\">\n",
       "      <th></th>\n",
       "      <th>x1</th>\n",
       "      <th>x2</th>\n",
       "      <th>y</th>\n",
       "    </tr>\n",
       "  </thead>\n",
       "  <tbody>\n",
       "    <tr>\n",
       "      <th>4</th>\n",
       "      <td>-119.366669</td>\n",
       "      <td>115.0</td>\n",
       "      <td>1</td>\n",
       "    </tr>\n",
       "    <tr>\n",
       "      <th>477</th>\n",
       "      <td>-118.366669</td>\n",
       "      <td>107.0</td>\n",
       "      <td>1</td>\n",
       "    </tr>\n",
       "    <tr>\n",
       "      <th>484</th>\n",
       "      <td>-118.366669</td>\n",
       "      <td>107.0</td>\n",
       "      <td>1</td>\n",
       "    </tr>\n",
       "    <tr>\n",
       "      <th>490</th>\n",
       "      <td>-118.366669</td>\n",
       "      <td>132.0</td>\n",
       "      <td>1</td>\n",
       "    </tr>\n",
       "    <tr>\n",
       "      <th>707</th>\n",
       "      <td>129.633331</td>\n",
       "      <td>-122.0</td>\n",
       "      <td>1</td>\n",
       "    </tr>\n",
       "    <tr>\n",
       "      <th>775</th>\n",
       "      <td>-50.366669</td>\n",
       "      <td>46.0</td>\n",
       "      <td>1</td>\n",
       "    </tr>\n",
       "    <tr>\n",
       "      <th>981</th>\n",
       "      <td>85.633331</td>\n",
       "      <td>-126.0</td>\n",
       "      <td>1</td>\n",
       "    </tr>\n",
       "    <tr>\n",
       "      <th>1356</th>\n",
       "      <td>34.633331</td>\n",
       "      <td>17.0</td>\n",
       "      <td>0</td>\n",
       "    </tr>\n",
       "    <tr>\n",
       "      <th>1380</th>\n",
       "      <td>30.633331</td>\n",
       "      <td>9.0</td>\n",
       "      <td>0</td>\n",
       "    </tr>\n",
       "    <tr>\n",
       "      <th>1479</th>\n",
       "      <td>-117.366669</td>\n",
       "      <td>-124.0</td>\n",
       "      <td>0</td>\n",
       "    </tr>\n",
       "    <tr>\n",
       "      <th>1633</th>\n",
       "      <td>-51.366669</td>\n",
       "      <td>-84.0</td>\n",
       "      <td>0</td>\n",
       "    </tr>\n",
       "    <tr>\n",
       "      <th>1685</th>\n",
       "      <td>-114.366669</td>\n",
       "      <td>-121.0</td>\n",
       "      <td>0</td>\n",
       "    </tr>\n",
       "    <tr>\n",
       "      <th>1918</th>\n",
       "      <td>97.633331</td>\n",
       "      <td>103.0</td>\n",
       "      <td>0</td>\n",
       "    </tr>\n",
       "    <tr>\n",
       "      <th>2175</th>\n",
       "      <td>39.633331</td>\n",
       "      <td>30.0</td>\n",
       "      <td>0</td>\n",
       "    </tr>\n",
       "    <tr>\n",
       "      <th>2179</th>\n",
       "      <td>49.633331</td>\n",
       "      <td>42.0</td>\n",
       "      <td>0</td>\n",
       "    </tr>\n",
       "    <tr>\n",
       "      <th>2223</th>\n",
       "      <td>96.633331</td>\n",
       "      <td>91.0</td>\n",
       "      <td>0</td>\n",
       "    </tr>\n",
       "  </tbody>\n",
       "</table>\n",
       "</div>"
      ],
      "text/plain": [
       "              x1     x2  y\n",
       "4    -119.366669  115.0  1\n",
       "477  -118.366669  107.0  1\n",
       "484  -118.366669  107.0  1\n",
       "490  -118.366669  132.0  1\n",
       "707   129.633331 -122.0  1\n",
       "775   -50.366669   46.0  1\n",
       "981    85.633331 -126.0  1\n",
       "1356   34.633331   17.0  0\n",
       "1380   30.633331    9.0  0\n",
       "1479 -117.366669 -124.0  0\n",
       "1633  -51.366669  -84.0  0\n",
       "1685 -114.366669 -121.0  0\n",
       "1918   97.633331  103.0  0\n",
       "2175   39.633331   30.0  0\n",
       "2179   49.633331   42.0  0\n",
       "2223   96.633331   91.0  0"
      ]
     },
     "execution_count": 19,
     "metadata": {},
     "output_type": "execute_result"
    }
   ],
   "source": [
    "duplicated_df=df[df.duplicated()]\n",
    "duplicated_df"
   ]
  },
  {
   "cell_type": "markdown",
   "metadata": {},
   "source": [
    "we keep the duplicate values as it is as they are not exactly similar to each other."
   ]
  },
  {
   "cell_type": "code",
   "execution_count": 20,
   "metadata": {},
   "outputs": [
    {
     "data": {
      "text/plain": [
       "<AxesSubplot:>"
      ]
     },
     "execution_count": 20,
     "metadata": {},
     "output_type": "execute_result"
    },
    {
     "data": {
      "image/png": "[encoded data removed]",
      "text/plain": [
       "<Figure size 432x288 with 1 Axes>"
      ]
     },
     "metadata": {
      "needs_background": "light"
     },
     "output_type": "display_data"
    }
   ],
   "source": [
    "## Checking Outliers by using boxplot\n",
    "df.boxplot()"
   ]
  },
  {
   "cell_type": "code",
   "execution_count": 21,
   "metadata": {},
   "outputs": [
    {
     "data": {
      "text/plain": [
       "(99999999.0, -134.8761321)"
      ]
     },
     "execution_count": 21,
     "metadata": {},
     "output_type": "execute_result"
    }
   ],
   "source": [
    "## Checking Minimum and maximun value\n",
    "df['x2'].max(),df['x2'].min()"
   ]
  },
  {
   "cell_type": "code",
   "execution_count": 22,
   "metadata": {},
   "outputs": [
    {
     "data": {
      "text/plain": [
       "(134.5086874, -134.3691605)"
      ]
     },
     "execution_count": 22,
     "metadata": {},
     "output_type": "execute_result"
    }
   ],
   "source": [
    "df['x1'].max(),df['x1'].min()"
   ]
  },
  {
   "cell_type": "code",
   "execution_count": 23,
   "metadata": {},
   "outputs": [],
   "source": [
    "## Cliping the outliers\n",
    "\n",
    "def Clipvalues(df,lower,upper):\n",
    "    for col in df.columns:\n",
    "        l=df[col].quantile(lower)\n",
    "        u=df[col].quantile(upper)\n",
    "        df[col]=df[col].clip(l,u)\n",
    "    return df       "
   ]
  },
  {
   "cell_type": "code",
   "execution_count": 24,
   "metadata": {},
   "outputs": [
    {
     "data": {
      "text/plain": [
       "<AxesSubplot:>"
      ]
     },
     "execution_count": 24,
     "metadata": {},
     "output_type": "execute_result"
    },
    {
     "data": {
      "image/png": "[encoded data removed]",
      "text/plain": [
       "<Figure size 432x288 with 1 Axes>"
      ]
     },
     "metadata": {
      "needs_background": "light"
     },
     "output_type": "display_data"
    }
   ],
   "source": [
    "## Clipping  outliers by lower(5%) and upper(95%) quantile values.\n",
    "df1=df\n",
    "df1=Clipvalues(df,0.05,0.95)\n",
    "df1.boxplot()"
   ]
  },
  {
   "cell_type": "markdown",
   "metadata": {},
   "source": [
    "## Model Selection"
   ]
  },
  {
   "cell_type": "code",
   "execution_count": 25,
   "metadata": {},
   "outputs": [],
   "source": [
    "#key = model name value = models object\n",
    "models={\"LogisticRegression\":LogisticRegression(),\n",
    "        \"DecisionTreeClassifier\":DecisionTreeClassifier(),\n",
    "        \"KNeighborsClassifier\":KNeighborsClassifier(),\n",
    "        \"SVC_with_linear kernel\":SVC(kernel='linear'),\n",
    "        \"SVC_with_rbf kernel\":SVC(kernel='rbf')\n",
    "       }"
   ]
  },
  {
   "cell_type": "markdown",
   "metadata": {},
   "source": [
    "## Automatic Model Training Function"
   ]
  },
  {
   "cell_type": "code",
   "execution_count": 26,
   "metadata": {},
   "outputs": [],
   "source": [
    "#model_training function is for training various models on the dataset\n",
    "#@models -> dictionary \n",
    "#@xtrain -> Training Attributes\n",
    "#@xtest -> Testing Attributes\n",
    "#@ytrain -> Train class\n",
    "#ytest-> test class\n",
    "#scale_flag -> 0(no scaling),1(standard),2(minmax)\n",
    "\n",
    "def model_training(models,xtrain,xtest,ytrain,ytest,scale_flag):\n",
    "    acc_result={}\n",
    "    for name,model in models.items():\n",
    "        try:\n",
    "            if (scale_flag==1):\n",
    "                model_pipeline=Pipeline([('StandardScaler',StandardScaler()),('model',model)])\n",
    "            elif(scale_flag==2):\n",
    "                model_pipeline=Pipeline([('MinMaxScaler',MinMaxScaler()),('model',model)])\n",
    "            else:\n",
    "                model_pipeline=Pipeline([('model',model)])\n",
    "            \n",
    "            #Model Training and Prediction\n",
    "            model_fit=model_pipeline.fit(xtrain,ytrain)\n",
    "            ypred=model_fit.predict(xtest)\n",
    "            acc=accuracy_score(ytest,ypred)\n",
    "            print(\"Accuracy for {} is {}\".format(name, acc))\n",
    "            acc_result[name]=acc\n",
    "        except:\n",
    "            print(\"Something went wrong\")\n",
    "    return acc_result        "
   ]
  },
  {
   "cell_type": "code",
   "execution_count": 27,
   "metadata": {},
   "outputs": [],
   "source": [
    "## x=> independent variable    y=> dependent variable\n",
    "\n",
    "x=df.drop(columns='y')\n",
    "y=df['y']"
   ]
  },
  {
   "cell_type": "code",
   "execution_count": 28,
   "metadata": {},
   "outputs": [],
   "source": [
    "## Splitting data intro train and test\n",
    "xtrain,xtest,ytrain,ytest=train_test_split(x,y,test_size=0.2,random_state=0)"
   ]
  },
  {
   "cell_type": "code",
   "execution_count": 29,
   "metadata": {},
   "outputs": [
    {
     "name": "stdout",
     "output_type": "stream",
     "text": [
      "Accuracy for LogisticRegression is 0.7376681614349776\n",
      "Accuracy for DecisionTreeClassifier is 0.9304932735426009\n",
      "Accuracy for KNeighborsClassifier is 0.9551569506726457\n",
      "Accuracy for SVC_with_linear kernel is 0.7331838565022422\n",
      "Accuracy for SVC_with_rbf kernel is 0.9641255605381166\n"
     ]
    }
   ],
   "source": [
    "## Accuracy on no scaled data\n",
    "model_result=model_training(models,xtrain,xtest,ytrain,ytest,0)"
   ]
  },
  {
   "cell_type": "code",
   "execution_count": 30,
   "metadata": {},
   "outputs": [
    {
     "name": "stdout",
     "output_type": "stream",
     "text": [
      "Accuracy for LogisticRegression is 0.7376681614349776\n",
      "Accuracy for DecisionTreeClassifier is 0.9304932735426009\n",
      "Accuracy for KNeighborsClassifier is 0.952914798206278\n",
      "Accuracy for SVC_with_linear kernel is 0.7331838565022422\n",
      "Accuracy for SVC_with_rbf kernel is 0.9641255605381166\n"
     ]
    }
   ],
   "source": [
    "## Accuracy on Standard Scaled Data\n",
    "model_result=model_training(models,xtrain,xtest,ytrain,ytest,1)"
   ]
  },
  {
   "cell_type": "code",
   "execution_count": 31,
   "metadata": {},
   "outputs": [
    {
     "name": "stdout",
     "output_type": "stream",
     "text": [
      "Accuracy for LogisticRegression is 0.7376681614349776\n",
      "Accuracy for DecisionTreeClassifier is 0.9304932735426009\n",
      "Accuracy for KNeighborsClassifier is 0.952914798206278\n",
      "Accuracy for SVC_with_linear kernel is 0.7331838565022422\n",
      "Accuracy for SVC_with_rbf kernel is 0.9641255605381166\n"
     ]
    }
   ],
   "source": [
    "## Accuracy on MinMax Scaled Data\n",
    "model_result=model_training(models,xtrain,xtest,ytrain,ytest,2)"
   ]
  },
  {
   "cell_type": "markdown",
   "metadata": {},
   "source": [
    "The best model among all above models is SVC with rbf kernel having highest accuracy 0.9641255605381166 in all 3 format of data."
   ]
  },
  {
   "cell_type": "markdown",
   "metadata": {},
   "source": [
    "## Hypertuning of SVC model"
   ]
  },
  {
   "cell_type": "code",
   "execution_count": 33,
   "metadata": {},
   "outputs": [
    {
     "name": "stdout",
     "output_type": "stream",
     "text": [
      "Best Parameters are : {'class_weight': 'balanced', 'degree': 1, 'gamma': 'scale', 'kernel': 'rbf'}\n",
      "Best Accuracy is : 0.9425445084400802\n"
     ]
    }
   ],
   "source": [
    "#Model\n",
    "model=SVC()\n",
    "\n",
    "## paramenters\n",
    "kernel=['rbf']\n",
    "class_weight=['balanced']\n",
    "gamma=['scale','auto']\n",
    "degree=[1,2,3,4,5]\n",
    "\n",
    "## grid\n",
    "grid=dict(kernel=kernel,class_weight=class_weight,gamma=gamma,degree=degree)\n",
    "\n",
    "## cv\n",
    "cv=RepeatedStratifiedKFold(n_splits=5,n_repeats=3,random_state=42)\n",
    "\n",
    "## GridSearchCV\n",
    "grid_cv=GridSearchCV(estimator=model,cv=cv,param_grid=grid,scoring='accuracy')\n",
    "\n",
    "##result\n",
    "res=grid_cv.fit(xtrain,ytrain)\n",
    "print('Best Parameters are :',res.best_params_)\n",
    "print('Best Accuracy is :',res.best_score_)"
   ]
  },
  {
   "cell_type": "code",
   "execution_count": 34,
   "metadata": {},
   "outputs": [
    {
     "data": {
      "text/plain": [
       "SVC(class_weight='balanced', degree=1)"
      ]
     },
     "execution_count": 34,
     "metadata": {},
     "output_type": "execute_result"
    }
   ],
   "source": [
    "## Retraining model on tuned parameters\n",
    "model=SVC(class_weight='balanced',degree=1,gamma='scale',kernel='rbf')\n",
    "model.fit(xtrain,ytrain)"
   ]
  },
  {
   "cell_type": "code",
   "execution_count": 35,
   "metadata": {},
   "outputs": [],
   "source": [
    "## Model Prediction\n",
    "ypred=model.predict(xtest)"
   ]
  },
  {
   "cell_type": "code",
   "execution_count": 36,
   "metadata": {},
   "outputs": [
    {
     "name": "stdout",
     "output_type": "stream",
     "text": [
      "Accuracy is : 0.9573991031390134\n",
      "              precision    recall  f1-score   support\n",
      "\n",
      "           0       0.98      0.94      0.96       242\n",
      "           1       0.93      0.98      0.95       204\n",
      "\n",
      "    accuracy                           0.96       446\n",
      "   macro avg       0.96      0.96      0.96       446\n",
      "weighted avg       0.96      0.96      0.96       446\n",
      "\n"
     ]
    },
    {
     "data": {
      "image/png": "[encoded data removed]",
      "text/plain": [
       "<Figure size 432x288 with 2 Axes>"
      ]
     },
     "metadata": {
      "needs_background": "light"
     },
     "output_type": "display_data"
    }
   ],
   "source": [
    "## Evaluation of model\n",
    "cm=confusion_matrix(ytest,ypred)\n",
    "sns.heatmap(cm,annot=True)\n",
    "print(\"Accuracy is :\",accuracy_score(ytest,ypred))\n",
    "print(classification_report(ytest,ypred))"
   ]
  },
  {
   "cell_type": "markdown",
   "metadata": {},
   "source": [
    "## HyperTuning on Logistic Regression"
   ]
  },
  {
   "cell_type": "code",
   "execution_count": 38,
   "metadata": {},
   "outputs": [
    {
     "name": "stdout",
     "output_type": "stream",
     "text": [
      "Best Parameters are : {'class_weight': 'balanced', 'penalty': 'l2', 'solver': 'newton-cg'}\n",
      "Best Accuracy is : 0.5740266893274163\n"
     ]
    }
   ],
   "source": [
    "#Model\n",
    "model=LogisticRegression()\n",
    "\n",
    "## paramenters\n",
    "penalty=['l1','l2','elasticnet']\n",
    "class_weight=['balanced']\n",
    "solver=['newton-cg', 'lbfgs', 'liblinear', 'sag', 'saga']\n",
    "\n",
    "## grid\n",
    "grid=dict(penalty=penalty,class_weight=class_weight,solver=solver)\n",
    "\n",
    "## cv\n",
    "cv=RepeatedStratifiedKFold(n_splits=5,n_repeats=3,random_state=42)\n",
    "\n",
    "## GridSearchCV\n",
    "grid_cv=GridSearchCV(estimator=model,cv=cv,param_grid=grid,scoring='accuracy')\n",
    "\n",
    "##result\n",
    "res=grid_cv.fit(xtrain,ytrain)\n",
    "print('Best Parameters are :',res.best_params_)\n",
    "print('Best Accuracy is :',res.best_score_)"
   ]
  },
  {
   "cell_type": "code",
   "execution_count": 39,
   "metadata": {},
   "outputs": [
    {
     "data": {
      "text/plain": [
       "LogisticRegression(class_weight='balanced', solver='newton-cg')"
      ]
     },
     "execution_count": 39,
     "metadata": {},
     "output_type": "execute_result"
    }
   ],
   "source": [
    "## Retraining model on tuned parameters\n",
    "model=LogisticRegression(class_weight='balanced',penalty='l2',solver= 'newton-cg')\n",
    "model.fit(xtrain,ytrain)"
   ]
  },
  {
   "cell_type": "code",
   "execution_count": 40,
   "metadata": {},
   "outputs": [],
   "source": [
    "## Model Prediction\n",
    "ypred=model.predict(xtest)"
   ]
  },
  {
   "cell_type": "code",
   "execution_count": 41,
   "metadata": {},
   "outputs": [
    {
     "name": "stdout",
     "output_type": "stream",
     "text": [
      "Accuracy is : 0.5448430493273543\n",
      "              precision    recall  f1-score   support\n",
      "\n",
      "           0       0.59      0.55      0.57       242\n",
      "           1       0.50      0.54      0.52       204\n",
      "\n",
      "    accuracy                           0.54       446\n",
      "   macro avg       0.54      0.54      0.54       446\n",
      "weighted avg       0.55      0.54      0.55       446\n",
      "\n"
     ]
    },
    {
     "data": {
      "image/png": "[encoded data removed]",
      "text/plain": [
       "<Figure size 432x288 with 2 Axes>"
      ]
     },
     "metadata": {
      "needs_background": "light"
     },
     "output_type": "display_data"
    }
   ],
   "source": [
    "## Evaluation of model\n",
    "cm=confusion_matrix(ytest,ypred)\n",
    "sns.heatmap(cm,annot=True)\n",
    "print(\"Accuracy is :\",accuracy_score(ytest,ypred))\n",
    "print(classification_report(ytest,ypred))"
   ]
  },
  {
   "cell_type": "markdown",
   "metadata": {},
   "source": [
    "## HyperTuning of Decision Tree Classifier"
   ]
  },
  {
   "cell_type": "code",
   "execution_count": 44,
   "metadata": {},
   "outputs": [
    {
     "name": "stdout",
     "output_type": "stream",
     "text": [
      "Best Parameters are : {'class_weight': 'balanced', 'criterion': 'gini', 'max_depth': 20, 'max_features': 'sqrt', 'splitter': 'best'}\n",
      "Best Accuracy is : 0.9292601684868704\n"
     ]
    }
   ],
   "source": [
    "#Model\n",
    "model=DecisionTreeClassifier()\n",
    "\n",
    "## paramenters\n",
    "criterion = [\"gini\", \"entropy\"]\n",
    "splitter=['best','random']\n",
    "max_depth=[5,10,15,20]\n",
    "max_features=[\"auto\", \"sqrt\", \"log2\"]\n",
    "class_weight=['balanced']\n",
    "\n",
    "\n",
    "## grid\n",
    "grid=dict(criterion =criterion ,splitter=splitter,max_depth=max_depth,max_features=max_features,class_weight=class_weight)\n",
    "\n",
    "## cv\n",
    "cv=RepeatedStratifiedKFold(n_splits=5,n_repeats=3,random_state=42)\n",
    "\n",
    "## GridSearchCV\n",
    "grid_cv=GridSearchCV(estimator=model,cv=cv,param_grid=grid,scoring='accuracy')\n",
    "\n",
    "##result\n",
    "res=grid_cv.fit(xtrain,ytrain)\n",
    "print('Best Parameters are :',res.best_params_)\n",
    "print('Best Accuracy is :',res.best_score_)"
   ]
  },
  {
   "cell_type": "code",
   "execution_count": 46,
   "metadata": {},
   "outputs": [
    {
     "data": {
      "text/plain": [
       "DecisionTreeClassifier(class_weight='balanced', max_depth=20,\n",
       "                       max_features='sqrt')"
      ]
     },
     "execution_count": 46,
     "metadata": {},
     "output_type": "execute_result"
    }
   ],
   "source": [
    "## Retraining model on tuned parameters\n",
    "model=DecisionTreeClassifier(class_weight= 'balanced', criterion= 'gini', max_depth= 20, max_features= 'sqrt', splitter= 'best')\n",
    "model.fit(xtrain,ytrain)"
   ]
  },
  {
   "cell_type": "code",
   "execution_count": 47,
   "metadata": {},
   "outputs": [],
   "source": [
    "## Model Prediction\n",
    "ypred=model.predict(xtest)"
   ]
  },
  {
   "cell_type": "code",
   "execution_count": 48,
   "metadata": {},
   "outputs": [
    {
     "name": "stdout",
     "output_type": "stream",
     "text": [
      "Accuracy is : 0.9304932735426009\n",
      "              precision    recall  f1-score   support\n",
      "\n",
      "           0       0.92      0.95      0.94       242\n",
      "           1       0.94      0.91      0.92       204\n",
      "\n",
      "    accuracy                           0.93       446\n",
      "   macro avg       0.93      0.93      0.93       446\n",
      "weighted avg       0.93      0.93      0.93       446\n",
      "\n"
     ]
    },
    {
     "data": {
      "image/png": "[encoded data removed]",
      "text/plain": [
       "<Figure size 432x288 with 2 Axes>"
      ]
     },
     "metadata": {
      "needs_background": "light"
     },
     "output_type": "display_data"
    }
   ],
   "source": [
    "## Evaluation of model\n",
    "cm=confusion_matrix(ytest,ypred)\n",
    "sns.heatmap(cm,annot=True)\n",
    "print(\"Accuracy is :\",accuracy_score(ytest,ypred))\n",
    "print(classification_report(ytest,ypred))"
   ]
  },
  {
   "cell_type": "markdown",
   "metadata": {},
   "source": [
    "## Conclusion "
   ]
  },
  {
   "cell_type": "markdown",
   "metadata": {},
   "source": [
    "### 1.SVC Model with rbf kernel\n",
    "Without hyperparameter tuning accuracy of model is 0.9641255605381166\n",
    "\n",
    "After Hyperparameter Tuning accuracy is\n",
    "          \n",
    "                Accuracy is : 0.9573991031390134\n",
    "                precision   recall  f1-score   support\n",
    "\n",
    "           0       0.98      0.94      0.96       242\n",
    "           1       0.93      0.98      0.95       204\n",
    "    "
   ]
  },
  {
   "cell_type": "markdown",
   "metadata": {},
   "source": [
    "## 2. Logistic Regression\n",
    "\n",
    "Without hyperparameter tuning accuracy of model is 0.7376681614349776\n",
    "\n",
    "After Hyperparameter Tuning accuracy is\n",
    "             \n",
    "              Accuracy is : 0.5448430493273543\n",
    "              precision    recall  f1-score   support\n",
    "\n",
    "           0       0.59      0.55      0.57       242\n",
    "           1       0.50      0.54      0.52       204\n"
   ]
  },
  {
   "cell_type": "markdown",
   "metadata": {},
   "source": [
    "## 3.Decision Tree Classifier"
   ]
  },
  {
   "cell_type": "markdown",
   "metadata": {},
   "source": [
    "Without hyperparameter tuning accuracy of model is 0.9304932735426009\n",
    "\n",
    "After Hyperparameter Tuning accuracy is\n",
    "        \n",
    "              Accuracy is : 0.9304932735426009\n",
    "              precision    recall  f1-score   support\n",
    "\n",
    "           0       0.92      0.95      0.94       242\n",
    "           1       0.94      0.91      0.92       204\n"
   ]
  },
  {
   "cell_type": "markdown",
   "metadata": {},
   "source": [
    "## 4. KNN Classifier\n",
    "\n",
    "Without hyperparameter tuning accuracy of model is 0.952914798206278\n"
   ]
  },
  {
   "cell_type": "markdown",
   "metadata": {},
   "source": [
    "# Final Conclusion"
   ]
  },
  {
   "cell_type": "markdown",
   "metadata": {},
   "source": [
    "By Comparing all above model we can conclude that the best model is SVM with kernel rbf having accuracy 0.9641255605381166"
   ]
  },
  {
   "cell_type": "code",
   "execution_count": null,
   "metadata": {},
   "outputs": [],
   "source": []
  }
 ],
 "metadata": {
  "kernelspec": {
   "display_name": "Python 3",
   "language": "python",
   "name": "python3"
  },
  "language_info": {
   "codemirror_mode": {
    "name": "ipython",
    "version": 3
   },
   "file_extension": ".py",
   "mimetype": "text/x-python",
   "name": "python",
   "nbconvert_exporter": "python",
   "pygments_lexer": "ipython3",
   "version": "3.8.5"
  }
 },
 "nbformat": 4,
 "nbformat_minor": 4
}
